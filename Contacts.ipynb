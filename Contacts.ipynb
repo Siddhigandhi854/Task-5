{
  "nbformat": 4,
  "nbformat_minor": 0,
  "metadata": {
    "colab": {
      "provenance": []
    },
    "kernelspec": {
      "name": "python3",
      "display_name": "Python 3"
    },
    "language_info": {
      "name": "python"
    }
  },
  "cells": [
    {
      "cell_type": "code",
      "execution_count": null,
      "metadata": {
        "colab": {
          "base_uri": "https://localhost:8080/"
        },
        "id": "O33T02nH8CCU",
        "outputId": "12455a26-b223-47bf-8a61-f1ba27d38dff"
      },
      "outputs": [
        {
          "output_type": "stream",
          "name": "stdout",
          "text": [
            "\n",
            "Contact Management System\n",
            "1. Add Contact\n",
            "2. View Contact List\n",
            "3. Search Contact\n",
            "4. Update Contact\n",
            "5. Delete Contact\n",
            "6. Exit\n",
            "Choose an option (1-6): 6\n",
            "Exiting the program. Goodbye!\n"
          ]
        }
      ],
      "source": [
        "contacts = []\n",
        "\n",
        "def add_contact():\n",
        "    name = input(\"Enter contact name: \")\n",
        "    phone = input(\"Enter phone number: \")\n",
        "    email = input(\"Enter email address: \")\n",
        "    address = input(\"Enter address: \")\n",
        "    contact = {\"name\": name, \"phone\": phone, \"email\": email, \"address\": address}\n",
        "    contacts.append(contact)\n",
        "    print(\"Contact added successfully!\")\n",
        "\n",
        "def view_contacts():\n",
        "    if contacts:\n",
        "        print(\"\\nContact List:\")\n",
        "        for idx, contact in enumerate(contacts, start=1):\n",
        "            print(f\"{idx}. {contact['name']} - {contact['phone']}\")\n",
        "    else:\n",
        "        print(\"No contacts available.\")\n",
        "\n",
        "def search_contact():\n",
        "    search = input(\"Enter name or phone number to search: \")\n",
        "    results = [contact for contact in contacts if search.lower() in contact['name'].lower() or search in contact['phone']]\n",
        "    if results:\n",
        "        for contact in results:\n",
        "            print(f\"Name: {contact['name']}, Phone: {contact['phone']}, Email: {contact['email']}, Address: {contact['address']}\")\n",
        "    else:\n",
        "        print(\"No matching contacts found.\")\n",
        "\n",
        "def update_contact():\n",
        "    search = input(\"Enter name or phone number to update: \")\n",
        "    for contact in contacts:\n",
        "        if search.lower() == contact['name'].lower() or search == contact['phone']:\n",
        "            print(\"Contact found. Enter new details (leave blank to keep current value):\")\n",
        "            contact['name'] = input(f\"Name ({contact['name']}): \") or contact['name']\n",
        "            contact['phone'] = input(f\"Phone ({contact['phone']}): \") or contact['phone']\n",
        "            contact['email'] = input(f\"Email ({contact['email']}): \") or contact['email']\n",
        "            contact['address'] = input(f\"Address ({contact['address']}): \") or contact['address']\n",
        "            print(\"Contact updated successfully!\")\n",
        "            return\n",
        "    print(\"Contact not found.\")\n",
        "\n",
        "def delete_contact():\n",
        "    search = input(\"Enter name or phone number to delete: \")\n",
        "    for i, contact in enumerate(contacts):\n",
        "        if search.lower() == contact['name'].lower() or search == contact['phone']:\n",
        "            del contacts[i]\n",
        "            print(\"Contact deleted successfully!\")\n",
        "            return\n",
        "    print(\"Contact not found.\")\n",
        "\n",
        "def display_menu():\n",
        "    print(\"\\nContact Management System\")\n",
        "    print(\"1. Add Contact\")\n",
        "    print(\"2. View Contact List\")\n",
        "    print(\"3. Search Contact\")\n",
        "    print(\"4. Update Contact\")\n",
        "    print(\"5. Delete Contact\")\n",
        "    print(\"6. Exit\")\n",
        "\n",
        "while True:\n",
        "    display_menu()\n",
        "    choice = input(\"Choose an option (1-6): \")\n",
        "    if choice == '1':\n",
        "        add_contact()\n",
        "    elif choice == '2':\n",
        "        view_contacts()\n",
        "    elif choice == '3':\n",
        "        search_contact()\n",
        "    elif choice == '4':\n",
        "        update_contact()\n",
        "    elif choice == '5':\n",
        "        delete_contact()\n",
        "    elif choice == '6':\n",
        "        print(\"Exiting the program. Goodbye!\")\n",
        "        break\n",
        "    else:\n",
        "        print(\"Invalid choice. Please try again.\")\n"
      ]
    }
  ]
}